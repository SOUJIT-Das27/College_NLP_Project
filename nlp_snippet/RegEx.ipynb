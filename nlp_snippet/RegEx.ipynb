{
 "cells": [
  {
   "cell_type": "code",
   "execution_count": 1,
   "id": "b0b1625d",
   "metadata": {},
   "outputs": [],
   "source": [
    "import re"
   ]
  },
  {
   "cell_type": "markdown",
   "id": "9db1872c",
   "metadata": {},
   "source": [
    "# Strings"
   ]
  },
  {
   "cell_type": "code",
   "execution_count": null,
   "id": "aae2dffb",
   "metadata": {},
   "outputs": [],
   "source": [
    "text1 = '''I am going to die in the morning to the city and the begining to the awkward silence in whole favourable place with \n",
    "template and with 1089993564 (849)-309-2873'''\n",
    "\n",
    "text2 = '''I am motherfucker in the city to the hell and I don't know how I suppose to know that'''\n",
    "\n",
    "text3 = '''I did what I did for the same thing you are doing right now in the favourable westminster bridged order  # 48589374897'''"
   ]
  },
  {
   "cell_type": "markdown",
   "id": "ceff7946",
   "metadata": {},
   "source": [
    "# Digit cut"
   ]
  },
  {
   "cell_type": "code",
   "execution_count": 6,
   "id": "438c94b7",
   "metadata": {},
   "outputs": [
    {
     "name": "stdout",
     "output_type": "stream",
     "text": [
      "1089993564\n",
      "(849)-309-2873\n"
     ]
    }
   ],
   "source": [
    "pattern = \"\\d{10}|\\(\\d{3}\\)-\\d{3}-\\d{4}\"\n",
    "match = re.findall(pattern,text1)\n",
    "for token in match:\n",
    "    print(token)"
   ]
  },
  {
   "cell_type": "markdown",
   "id": "fb4a796f",
   "metadata": {},
   "source": [
    "# Order no"
   ]
  },
  {
   "cell_type": "code",
   "execution_count": 19,
   "id": "67cf7df0",
   "metadata": {},
   "outputs": [
    {
     "data": {
      "text/plain": [
       "['48589374897']"
      ]
     },
     "execution_count": 19,
     "metadata": {},
     "output_type": "execute_result"
    }
   ],
   "source": [
    "pattern1 = 'order[^\\d]*(\\d*)'\n",
    "match1 = re.findall(pattern1,text3)\n",
    "match1"
   ]
  },
  {
   "cell_type": "markdown",
   "id": "09409c91",
   "metadata": {},
   "source": [
    "# Email"
   ]
  },
  {
   "cell_type": "code",
   "execution_count": 23,
   "id": "e29e49af",
   "metadata": {},
   "outputs": [
    {
     "data": {
      "text/plain": [
       "'soujitdas1999@gmail.com'"
      ]
     },
     "execution_count": 23,
     "metadata": {},
     "output_type": "execute_result"
    }
   ],
   "source": [
    "email = \"[a-z0-9A-Z_]*@[a-z0-9A-Z]*\\.[a-zA-Z]*\"\n",
    "chat1 = \"email: soujitdas1999@gmail.com\"\n",
    "match7 = re.findall(email,chat1)\n",
    "match7[0]"
   ]
  },
  {
   "cell_type": "markdown",
   "id": "b898cb31",
   "metadata": {},
   "source": [
    "# Age"
   ]
  },
  {
   "cell_type": "code",
   "execution_count": 20,
   "id": "a8b0c286",
   "metadata": {},
   "outputs": [
    {
     "data": {
      "text/plain": [
       "['50']"
      ]
     },
     "execution_count": 20,
     "metadata": {},
     "output_type": "execute_result"
    }
   ],
   "source": [
    "pattern_age = \"age (\\d+)\"\n",
    "text4 = \"my phone number is (age 50)\"\n",
    "match2 = re.findall(pattern_age,text4)\n",
    "match2"
   ]
  }
 ],
 "metadata": {
  "kernelspec": {
   "display_name": "Python 3 (ipykernel)",
   "language": "python",
   "name": "python3"
  },
  "language_info": {
   "codemirror_mode": {
    "name": "ipython",
    "version": 3
   },
   "file_extension": ".py",
   "mimetype": "text/x-python",
   "name": "python",
   "nbconvert_exporter": "python",
   "pygments_lexer": "ipython3",
   "version": "3.11.0"
  }
 },
 "nbformat": 4,
 "nbformat_minor": 5
}
