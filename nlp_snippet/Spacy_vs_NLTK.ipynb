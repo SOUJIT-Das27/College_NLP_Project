{
 "cells": [
  {
   "cell_type": "markdown",
   "id": "0622055f",
   "metadata": {},
   "source": [
    "# Spacy"
   ]
  },
  {
   "cell_type": "code",
   "execution_count": 1,
   "id": "71da5654",
   "metadata": {},
   "outputs": [],
   "source": [
    "import spacy"
   ]
  },
  {
   "cell_type": "code",
   "execution_count": 10,
   "id": "bb8ad860",
   "metadata": {},
   "outputs": [
    {
     "name": "stdout",
     "output_type": "stream",
     "text": [
      "Woh sharabi kya sharabi.\n",
      "Dil mein jiske gham na ho.\n",
      "Lut gaya samjho sharabi, Paas jiske hum naa ho.\n"
     ]
    }
   ],
   "source": [
    "nlp = spacy.load(\"en_core_web_sm\")\n",
    "\n",
    "doc = nlp(\"Woh sharabi kya sharabi. Dil mein jiske gham na ho. Lut gaya samjho sharabi, Paas jiske hum naa ho.\")\n",
    "\n",
    "for sentence in doc.sents:\n",
    "    print(sentence)"
   ]
  },
  {
   "cell_type": "markdown",
   "id": "51fa801f",
   "metadata": {},
   "source": [
    "# NLTK"
   ]
  },
  {
   "cell_type": "code",
   "execution_count": 6,
   "id": "96d34ce7",
   "metadata": {},
   "outputs": [],
   "source": [
    "from nltk.tokenize import sent_tokenize,word_tokenize"
   ]
  },
  {
   "cell_type": "code",
   "execution_count": 9,
   "id": "8c7947f2",
   "metadata": {},
   "outputs": [
    {
     "name": "stdout",
     "output_type": "stream",
     "text": [
      "Woh sharabi kya sharabi.\n",
      "Dil mein jiske gham na ho.\n",
      "Lut gaya samjho sharabi, Paas jiske hum naa ho.\n"
     ]
    }
   ],
   "source": [
    "saki = \"Woh sharabi kya sharabi. Dil mein jiske gham na ho. Lut gaya samjho sharabi, Paas jiske hum naa ho.\"\n",
    "\n",
    "list = sent_tokenize(saki)\n",
    "\n",
    "for sentence in list:\n",
    "    print(sentence)"
   ]
  }
 ],
 "metadata": {
  "kernelspec": {
   "display_name": "Python 3 (ipykernel)",
   "language": "python",
   "name": "python3"
  },
  "language_info": {
   "codemirror_mode": {
    "name": "ipython",
    "version": 3
   },
   "file_extension": ".py",
   "mimetype": "text/x-python",
   "name": "python",
   "nbconvert_exporter": "python",
   "pygments_lexer": "ipython3",
   "version": "3.11.0"
  }
 },
 "nbformat": 4,
 "nbformat_minor": 5
}
