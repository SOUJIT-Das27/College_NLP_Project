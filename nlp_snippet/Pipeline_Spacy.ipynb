{
 "cells": [
  {
   "cell_type": "code",
   "execution_count": 1,
   "id": "3cdbc0c5",
   "metadata": {},
   "outputs": [],
   "source": [
    "import spacy"
   ]
  },
  {
   "cell_type": "markdown",
   "id": "ac973aa4",
   "metadata": {},
   "source": [
    "# English"
   ]
  },
  {
   "cell_type": "code",
   "execution_count": 2,
   "id": "da08c58e",
   "metadata": {},
   "outputs": [],
   "source": [
    "nlp = spacy.blank(\"en\")"
   ]
  },
  {
   "cell_type": "code",
   "execution_count": 32,
   "id": "0cd4e8d5",
   "metadata": {},
   "outputs": [
    {
     "name": "stdout",
     "output_type": "stream",
     "text": [
      "Some\n",
      "wise\n",
      "man\n",
      "said\n",
      ",\n",
      "\"\n",
      "We\n",
      "create\n",
      "our\n",
      "own\n",
      "enemies\n",
      "\"\n",
      ".\n",
      "Which\n",
      "is\n",
      "$\n",
      "10000\n",
      "quote\n",
      ".\n"
     ]
    }
   ],
   "source": [
    "doc = nlp(\"Some wise man said, \\\"We create our own enemies\\\". Which is $10000 quote.\")\n",
    "\n",
    "for token in doc:\n",
    "    print(token)"
   ]
  },
  {
   "cell_type": "code",
   "execution_count": 4,
   "id": "7659ae91",
   "metadata": {},
   "outputs": [
    {
     "data": {
      "text/plain": [
       "Some wise man said, \"We create our own enemies\""
      ]
     },
     "execution_count": 4,
     "metadata": {},
     "output_type": "execute_result"
    }
   ],
   "source": [
    "doc[:12]"
   ]
  },
  {
   "cell_type": "code",
   "execution_count": 5,
   "id": "484d0cae",
   "metadata": {},
   "outputs": [
    {
     "data": {
      "text/plain": [
       "spacy.tokens.token.Token"
      ]
     },
     "execution_count": 5,
     "metadata": {},
     "output_type": "execute_result"
    }
   ],
   "source": [
    "#Type\n",
    "\n",
    "type(doc[7])"
   ]
  },
  {
   "cell_type": "code",
   "execution_count": 19,
   "id": "06a89db3",
   "metadata": {},
   "outputs": [
    {
     "name": "stdout",
     "output_type": "stream",
     "text": [
      "10000\n",
      "True\n",
      "Currency\n",
      " $\n",
      "True\n"
     ]
    }
   ],
   "source": [
    "print(doc[16].text)\n",
    "print(doc[16].like_num)\n",
    "\n",
    "print(\"Currency\\n\",doc[15].text)\n",
    "print(doc[15].is_currency)"
   ]
  },
  {
   "cell_type": "markdown",
   "id": "b9cef50e",
   "metadata": {},
   "source": [
    "# हिंदी"
   ]
  },
  {
   "cell_type": "code",
   "execution_count": 7,
   "id": "bf97a72c",
   "metadata": {},
   "outputs": [
    {
     "name": "stdout",
     "output_type": "stream",
     "text": [
      "हिंदी\n",
      "या\n",
      "हिन्दी\n",
      "!\n",
      "सही\n",
      "रूप\n",
      "में\n",
      "हिन्दी\n",
      "ही\n",
      "लिखना\n",
      "सही\n",
      "है\n",
      "।\n",
      "क्योंकि\n",
      "जहाँ\n",
      "पर\n",
      "सन्धि\n",
      "होती\n",
      "है\n",
      "वहां\n",
      "अर्धपञ्चम\n",
      "वर्ण\n",
      "को\n",
      "अनुस्वार\n",
      "यानी\n",
      "बिन्दु\n",
      "का\n",
      "आदेश\n",
      "हो\n",
      "जाता\n",
      "है\n",
      "।\n"
     ]
    }
   ],
   "source": [
    "nlp2 = spacy.blank(\"hi\")\n",
    "\n",
    "doc2 = nlp2(\"हिंदी या हिन्दी! सही रूप में हिन्दी ही लिखना सही है। क्योंकि जहाँ पर सन्धि होती है वहां अर्धपञ्चम वर्ण को अनुस्वार यानी बिन्दु का आदेश हो जाता है।\")\n",
    "\n",
    "for token in doc2:\n",
    "    print(token)"
   ]
  },
  {
   "cell_type": "markdown",
   "id": "7271da17",
   "metadata": {},
   "source": [
    "# bengali"
   ]
  },
  {
   "cell_type": "code",
   "execution_count": 20,
   "id": "ec851b56",
   "metadata": {},
   "outputs": [
    {
     "name": "stdout",
     "output_type": "stream",
     "text": [
      "আকাশ হঠাৎ খুলে গেছে\n",
      "সূর্যের সীমানা .অনেক দূরে পাহাড়\n",
      "চূড়ো নতুন ঠিকানা পায়ের নিচে অন্য মহাদেশ কে\n",
      "জানে তার কোথায় আছে শেষ\n",
      "\n",
      "\n",
      "Tokens\n",
      "\n",
      "আকাশ\n",
      "হঠাৎ\n",
      "খুলে\n",
      "গেছে\n",
      "সূর্যের\n",
      "সীমানা\n",
      ".অনেক\n",
      "দূরে\n",
      "পাহাড়\n",
      "চূড়ো\n",
      "নতুন\n",
      "ঠিকানা\n",
      "পায়ের\n",
      "নিচে\n",
      "অন্য\n",
      "মহাদেশ\n",
      "কে\n",
      "জানে\n",
      "তার\n",
      "কোথায়\n",
      "আছে\n",
      "শেষ\n"
     ]
    }
   ],
   "source": [
    "nlp3 = spacy.blank(\"bn\")\n",
    "\n",
    "nlp4 = spacy.load(\"en_core_web_sm\")\n",
    "\n",
    "doc3 = nlp3(\"আকাশ হঠাৎ খুলে গেছে সূর্যের সীমানা .অনেক দূরে পাহাড় চূড়ো নতুন ঠিকানা পায়ের নিচে অন্য মহাদেশ কে জানে তার কোথায় আছে শেষ\")\n",
    "\n",
    "doc4 = nlp4(\"আকাশ হঠাৎ খুলে গেছে সূর্যের সীমানা .অনেক দূরে পাহাড় চূড়ো নতুন ঠিকানা পায়ের নিচে অন্য মহাদেশ কে জানে তার কোথায় আছে শেষ\")\n",
    "\n",
    "for sentence in doc4.sents:\n",
    "    print(sentence)\n",
    "\n",
    "print(\"\\n\\nTokens\\n\")\n",
    "\n",
    "for token in doc3:\n",
    "    print(token)"
   ]
  },
  {
   "cell_type": "code",
   "execution_count": 23,
   "id": "7d730369",
   "metadata": {},
   "outputs": [
    {
     "data": {
      "text/plain": [
       "['tok2vec', 'tagger', 'parser', 'attribute_ruler', 'lemmatizer', 'ner']"
      ]
     },
     "execution_count": 23,
     "metadata": {},
     "output_type": "execute_result"
    }
   ],
   "source": [
    "#List of pipes\n",
    "\n",
    "nlp4.pipe_names"
   ]
  },
  {
   "cell_type": "code",
   "execution_count": 24,
   "id": "85d758e6",
   "metadata": {},
   "outputs": [
    {
     "data": {
      "text/plain": [
       "[('tok2vec', <spacy.pipeline.tok2vec.Tok2Vec at 0x1fb79994ef0>),\n",
       " ('tagger', <spacy.pipeline.tagger.Tagger at 0x1fb79996270>),\n",
       " ('parser', <spacy.pipeline.dep_parser.DependencyParser at 0x1fb2436d230>),\n",
       " ('attribute_ruler',\n",
       "  <spacy.pipeline.attributeruler.AttributeRuler at 0x1fb7b460590>),\n",
       " ('lemmatizer', <spacy.lang.en.lemmatizer.EnglishLemmatizer at 0x1fb7b3ece10>),\n",
       " ('ner', <spacy.pipeline.ner.EntityRecognizer at 0x1fb752f5930>)]"
      ]
     },
     "execution_count": 24,
     "metadata": {},
     "output_type": "execute_result"
    }
   ],
   "source": [
    "#pipeline for nlp4 = spacy.load(\"en_core_web_sm\")\n",
    "\n",
    "nlp4.pipeline"
   ]
  },
  {
   "cell_type": "markdown",
   "id": "d0ea042d",
   "metadata": {},
   "source": [
    "# Parts of speech"
   ]
  },
  {
   "cell_type": "code",
   "execution_count": 44,
   "id": "2817dda7",
   "metadata": {},
   "outputs": [
    {
     "name": "stdout",
     "output_type": "stream",
     "text": [
      "Some   -->   DET   -->   some\n",
      "wise   -->   ADJ   -->   wise\n",
      "man   -->   NOUN   -->   man\n",
      "said   -->   VERB   -->   say\n",
      ",   -->   PUNCT   -->   ,\n",
      "\"   -->   PUNCT   -->   \"\n",
      "We   -->   PRON   -->   we\n",
      "create   -->   VERB   -->   create\n",
      "our   -->   PRON   -->   our\n",
      "own   -->   ADJ   -->   own\n",
      "enemies   -->   NOUN   -->   enemy\n",
      "\"   -->   PUNCT   -->   \"\n",
      ".   -->   PUNCT   -->   .\n",
      "Which   -->   PRON   -->   which\n",
      "is   -->   AUX   -->   be\n",
      "$   -->   SYM   -->   $\n",
      "10000   -->   NUM   -->   10000\n",
      "quote   -->   NOUN   -->   quote\n",
      ".   -->   PUNCT   -->   .\n"
     ]
    }
   ],
   "source": [
    "nlp10 = spacy.load(\"en_core_web_sm\")\n",
    "\n",
    "doc10 = nlp10(\"Some wise man said, \\\"We create our own enemies\\\". Which is $10000 quote.\")\n",
    "\n",
    "for token in doc10:\n",
    "    print(token,\"  -->  \",token.pos_,\"  -->  \",token.lemma_)"
   ]
  },
  {
   "cell_type": "markdown",
   "id": "5a1d054f",
   "metadata": {},
   "source": [
    "# Entities"
   ]
  },
  {
   "cell_type": "code",
   "execution_count": 49,
   "id": "191ed23b",
   "metadata": {},
   "outputs": [
    {
     "name": "stdout",
     "output_type": "stream",
     "text": [
      "10000   -->   MONEY   -->   Monetary values, including unit\n"
     ]
    }
   ],
   "source": [
    "doc99 = nlp10(\"Some wise man said, \\\"We create our own enemies\\\". Which is $10000 quote.\")\n",
    "\n",
    "for ent in doc99.ents:\n",
    "    print(ent.text,\"  -->  \",ent.label_,\"  -->  \",spacy.explain(ent.label_))"
   ]
  },
  {
   "cell_type": "code",
   "execution_count": 52,
   "id": "092cbaf8",
   "metadata": {},
   "outputs": [
    {
     "data": {
      "text/html": [
       "<span class=\"tex2jax_ignore\"><div class=\"entities\" style=\"line-height: 2.5; direction: ltr\">Some wise man said, &quot;We create our own enemies&quot;. Which is $\n",
       "<mark class=\"entity\" style=\"background: #e4e7d2; padding: 0.45em 0.6em; margin: 0 0.25em; line-height: 1; border-radius: 0.35em;\">\n",
       "    10000\n",
       "    <span style=\"font-size: 0.8em; font-weight: bold; line-height: 1; border-radius: 0.35em; vertical-align: middle; margin-left: 0.5rem\">MONEY</span>\n",
       "</mark>\n",
       " quote.</div></span>"
      ],
      "text/plain": [
       "<IPython.core.display.HTML object>"
      ]
     },
     "metadata": {},
     "output_type": "display_data"
    }
   ],
   "source": [
    "from spacy import displacy\n",
    "\n",
    "displacy.render(doc99, style=\"ent\")"
   ]
  },
  {
   "cell_type": "code",
   "execution_count": 57,
   "id": "5eb1ce0b",
   "metadata": {},
   "outputs": [
    {
     "data": {
      "text/plain": [
       "['ner']"
      ]
     },
     "execution_count": 57,
     "metadata": {},
     "output_type": "execute_result"
    }
   ],
   "source": [
    "source_nlp = spacy.load(\"en_core_web_sm\")\n",
    "\n",
    "blank = spacy.blank(\"en\")\n",
    "\n",
    "blank.add_pipe(\"ner\",source=source_nlp)\n",
    "\n",
    "blank.pipe_names"
   ]
  },
  {
   "cell_type": "code",
   "execution_count": null,
   "id": "19533cf1",
   "metadata": {},
   "outputs": [],
   "source": []
  }
 ],
 "metadata": {
  "kernelspec": {
   "display_name": "Python 3 (ipykernel)",
   "language": "python",
   "name": "python3"
  },
  "language_info": {
   "codemirror_mode": {
    "name": "ipython",
    "version": 3
   },
   "file_extension": ".py",
   "mimetype": "text/x-python",
   "name": "python",
   "nbconvert_exporter": "python",
   "pygments_lexer": "ipython3",
   "version": "3.11.0"
  }
 },
 "nbformat": 4,
 "nbformat_minor": 5
}
