{
 "cells": [
  {
   "cell_type": "code",
   "execution_count": 1,
   "id": "27101f43",
   "metadata": {},
   "outputs": [],
   "source": [
    "import pandas as pd"
   ]
  },
  {
   "cell_type": "code",
   "execution_count": 2,
   "id": "e8d18198",
   "metadata": {},
   "outputs": [],
   "source": [
    "df = pd.read_csv(\"IMDB Dataset.csv\")"
   ]
  },
  {
   "cell_type": "code",
   "execution_count": 3,
   "id": "cc7e2506",
   "metadata": {},
   "outputs": [
    {
     "data": {
      "text/html": [
       "<div>\n",
       "<style scoped>\n",
       "    .dataframe tbody tr th:only-of-type {\n",
       "        vertical-align: middle;\n",
       "    }\n",
       "\n",
       "    .dataframe tbody tr th {\n",
       "        vertical-align: top;\n",
       "    }\n",
       "\n",
       "    .dataframe thead th {\n",
       "        text-align: right;\n",
       "    }\n",
       "</style>\n",
       "<table border=\"1\" class=\"dataframe\">\n",
       "  <thead>\n",
       "    <tr style=\"text-align: right;\">\n",
       "      <th></th>\n",
       "      <th>review</th>\n",
       "      <th>sentiment</th>\n",
       "    </tr>\n",
       "  </thead>\n",
       "  <tbody>\n",
       "    <tr>\n",
       "      <th>0</th>\n",
       "      <td>One of the other reviewers has mentioned that ...</td>\n",
       "      <td>positive</td>\n",
       "    </tr>\n",
       "    <tr>\n",
       "      <th>1</th>\n",
       "      <td>A wonderful little production. &lt;br /&gt;&lt;br /&gt;The...</td>\n",
       "      <td>positive</td>\n",
       "    </tr>\n",
       "    <tr>\n",
       "      <th>2</th>\n",
       "      <td>I thought this was a wonderful way to spend ti...</td>\n",
       "      <td>positive</td>\n",
       "    </tr>\n",
       "    <tr>\n",
       "      <th>3</th>\n",
       "      <td>Basically there's a family where a little boy ...</td>\n",
       "      <td>negative</td>\n",
       "    </tr>\n",
       "    <tr>\n",
       "      <th>4</th>\n",
       "      <td>Petter Mattei's \"Love in the Time of Money\" is...</td>\n",
       "      <td>positive</td>\n",
       "    </tr>\n",
       "  </tbody>\n",
       "</table>\n",
       "</div>"
      ],
      "text/plain": [
       "                                              review sentiment\n",
       "0  One of the other reviewers has mentioned that ...  positive\n",
       "1  A wonderful little production. <br /><br />The...  positive\n",
       "2  I thought this was a wonderful way to spend ti...  positive\n",
       "3  Basically there's a family where a little boy ...  negative\n",
       "4  Petter Mattei's \"Love in the Time of Money\" is...  positive"
      ]
     },
     "execution_count": 3,
     "metadata": {},
     "output_type": "execute_result"
    }
   ],
   "source": [
    "df.head(5)"
   ]
  },
  {
   "cell_type": "markdown",
   "id": "b7101437",
   "metadata": {},
   "source": [
    "## LowerCasing"
   ]
  },
  {
   "cell_type": "code",
   "execution_count": 4,
   "id": "ebc1361b",
   "metadata": {},
   "outputs": [
    {
     "name": "stdout",
     "output_type": "stream",
     "text": [
      "basically there's a family where a little boy (jake) thinks there's a zombie in his closet & his parents are fighting all the time.<br /><br />this movie is slower than a soap opera... and suddenly, jake decides to become rambo and kill the zombie.<br /><br />ok, first of all when you're going to make a film you must decide if its a thriller or a drama! as a drama the movie is watchable. parents are divorcing & arguing like in real life. and then we have jake with his closet which totally ruins all the film! i expected to see a boogeyman similar movie, and instead i watched a drama with some meaningless thriller spots.<br /><br />3 out of 10 just for the well playing parents & descent dialogs. as for the shots with jake: just ignore them.\n"
     ]
    }
   ],
   "source": [
    "print(df['review'][3].lower())"
   ]
  },
  {
   "cell_type": "markdown",
   "id": "bbc8c619",
   "metadata": {},
   "source": [
    "## HTML Remover"
   ]
  },
  {
   "cell_type": "code",
   "execution_count": 5,
   "id": "bf028976",
   "metadata": {},
   "outputs": [],
   "source": [
    "import re"
   ]
  },
  {
   "cell_type": "code",
   "execution_count": 6,
   "id": "760d0c3f",
   "metadata": {},
   "outputs": [],
   "source": [
    "text = df['review'][3].lower()"
   ]
  },
  {
   "cell_type": "code",
   "execution_count": 7,
   "id": "dac1d74f",
   "metadata": {},
   "outputs": [],
   "source": [
    "def remove_html_tags(text):\n",
    "    pattern = re.compile('<.*?>')\n",
    "    return pattern.sub(r'',text)"
   ]
  },
  {
   "cell_type": "code",
   "execution_count": 8,
   "id": "aa4ff3aa",
   "metadata": {},
   "outputs": [
    {
     "name": "stdout",
     "output_type": "stream",
     "text": [
      "basically there's a family where a little boy (jake) thinks there's a zombie in his closet & his parents are fighting all the time.this movie is slower than a soap opera... and suddenly, jake decides to become rambo and kill the zombie.ok, first of all when you're going to make a film you must decide if its a thriller or a drama! as a drama the movie is watchable. parents are divorcing & arguing like in real life. and then we have jake with his closet which totally ruins all the film! i expected to see a boogeyman similar movie, and instead i watched a drama with some meaningless thriller spots.3 out of 10 just for the well playing parents & descent dialogs. as for the shots with jake: just ignore them.\n"
     ]
    }
   ],
   "source": [
    "print(remove_html_tags(text))"
   ]
  },
  {
   "cell_type": "code",
   "execution_count": 9,
   "id": "99c072a9",
   "metadata": {},
   "outputs": [],
   "source": [
    "df['review'] = df['review'].apply(remove_html_tags)"
   ]
  },
  {
   "cell_type": "code",
   "execution_count": 10,
   "id": "b35cbb74",
   "metadata": {},
   "outputs": [
    {
     "data": {
      "text/plain": [
       "'Petter Mattei\\'s \"Love in the Time of Money\" is a visually stunning film to watch. Mr. Mattei offers us a vivid portrait about human relations. This is a movie that seems to be telling us what money, power and success do to people in the different situations we encounter. This being a variation on the Arthur Schnitzler\\'s play about the same theme, the director transfers the action to the present time New York where all these different characters meet and connect. Each one is connected in one way, or another to the next person, but no one seems to know the previous point of contact. Stylishly, the film has a sophisticated luxurious look. We are taken to see how these people live and the world they live in their own habitat.The only thing one gets out of all these souls in the picture is the different stages of loneliness each one inhabits. A big city is not exactly the best place in which human relations find sincere fulfillment, as one discerns is the case with most of the people we encounter.The acting is good under Mr. Mattei\\'s direction. Steve Buscemi, Rosario Dawson, Carol Kane, Michael Imperioli, Adrian Grenier, and the rest of the talented cast, make these characters come alive.We wish Mr. Mattei good luck and await anxiously for his next work.'"
      ]
     },
     "execution_count": 10,
     "metadata": {},
     "output_type": "execute_result"
    }
   ],
   "source": [
    "df['review'][4]"
   ]
  },
  {
   "cell_type": "markdown",
   "id": "90068802",
   "metadata": {},
   "source": [
    "## Remove URL"
   ]
  },
  {
   "cell_type": "code",
   "execution_count": 11,
   "id": "129c44d7",
   "metadata": {},
   "outputs": [],
   "source": [
    "url1 = 'This is linkdin https://www.linkedin.com/feed/'\n",
    "url2 = 'This is fb https://huggingface.co/models?pipeline_tag=sentence-similarity&sort=trending'\n",
    "url3 = 'Google https://www.google.com/'\n",
    "url4 = 'Insta search here https://www.instagram.com/'"
   ]
  },
  {
   "cell_type": "code",
   "execution_count": 12,
   "id": "93c85947",
   "metadata": {},
   "outputs": [],
   "source": [
    "def remove_url(text):\n",
    "    pattern = re.compile(r'https?://\\S+|www\\.\\S+')\n",
    "    return pattern.sub(r'',text)"
   ]
  },
  {
   "cell_type": "code",
   "execution_count": 13,
   "id": "008a17fc",
   "metadata": {},
   "outputs": [
    {
     "name": "stdout",
     "output_type": "stream",
     "text": [
      "This is linkdin \n",
      "This is fb \n",
      "Google \n",
      "Insta search here \n"
     ]
    }
   ],
   "source": [
    "print(remove_url(url1))\n",
    "print(remove_url(url2))\n",
    "print(remove_url(url3))\n",
    "print(remove_url(url4))"
   ]
  },
  {
   "cell_type": "markdown",
   "id": "3581b59a",
   "metadata": {},
   "source": [
    "## Remove Punctuation"
   ]
  },
  {
   "cell_type": "code",
   "execution_count": 14,
   "id": "790210a8",
   "metadata": {},
   "outputs": [
    {
     "data": {
      "text/plain": [
       "'!\"#$%&\\'()*+,-./:;<=>?@[\\\\]^_`{|}~'"
      ]
     },
     "execution_count": 14,
     "metadata": {},
     "output_type": "execute_result"
    }
   ],
   "source": [
    "import string,time\n",
    "string.punctuation"
   ]
  },
  {
   "cell_type": "code",
   "execution_count": 15,
   "id": "c1c6a510",
   "metadata": {},
   "outputs": [],
   "source": [
    "exclude = string.punctuation"
   ]
  },
  {
   "cell_type": "code",
   "execution_count": 16,
   "id": "8937fe78",
   "metadata": {},
   "outputs": [],
   "source": [
    "def remove_punc(text):\n",
    "    for char in exclude:\n",
    "        text = text.replace(char,'')\n",
    "    return text"
   ]
  },
  {
   "cell_type": "code",
   "execution_count": 17,
   "id": "4e9bc7fa",
   "metadata": {},
   "outputs": [],
   "source": [
    "punc1 = 'string. with. punctuation?'"
   ]
  },
  {
   "cell_type": "code",
   "execution_count": 18,
   "id": "02131b38",
   "metadata": {},
   "outputs": [
    {
     "name": "stdout",
     "output_type": "stream",
     "text": [
      "string with punctuation\n",
      "0.0\n"
     ]
    }
   ],
   "source": [
    "start = time.time()\n",
    "print(remove_punc(punc1))\n",
    "time1 = time.time() - start\n",
    "print(time1)"
   ]
  },
  {
   "cell_type": "markdown",
   "id": "2f9f6aad",
   "metadata": {},
   "source": [
    "## Slang conversion"
   ]
  },
  {
   "cell_type": "code",
   "execution_count": 19,
   "id": "d4d190d3",
   "metadata": {},
   "outputs": [],
   "source": [
    "chat_words = {\n",
    "    \"$\" : \" dollar \",\n",
    "    \"€\" : \" euro \",\n",
    "    \"4ao\" : \"for adults only\",\n",
    "    \"a.m\" : \"before midday\",\n",
    "    \"a3\" : \"anytime anywhere anyplace\",\n",
    "    \"aamof\" : \"as a matter of fact\",\n",
    "    \"acct\" : \"account\",\n",
    "    \"adih\" : \"another day in hell\",\n",
    "    \"afaic\" : \"as far as i am concerned\",\n",
    "    \"afaict\" : \"as far as i can tell\",\n",
    "    \"afaik\" : \"as far as i know\",\n",
    "    \"afair\" : \"as far as i remember\",\n",
    "    \"afk\" : \"away from keyboard\",\n",
    "    \"app\" : \"application\",\n",
    "    \"approx\" : \"approximately\",\n",
    "    \"apps\" : \"applications\",\n",
    "    \"asap\" : \"as soon as possible\",\n",
    "    \"asl\" : \"age, sex, location\",\n",
    "    \"atk\" : \"at the keyboard\",\n",
    "    \"ave.\" : \"avenue\",\n",
    "    \"aymm\" : \"are you my mother\",\n",
    "    \"ayor\" : \"at your own risk\", \n",
    "    \"b&b\" : \"bed and breakfast\",\n",
    "    \"b+b\" : \"bed and breakfast\",\n",
    "    \"b.c\" : \"before christ\",\n",
    "    \"b2b\" : \"business to business\",\n",
    "    \"b2c\" : \"business to customer\",\n",
    "    \"b4\" : \"before\",\n",
    "    \"b4n\" : \"bye for now\",\n",
    "    \"b@u\" : \"back at you\",\n",
    "    \"bae\" : \"before anyone else\",\n",
    "    \"bak\" : \"back at keyboard\",\n",
    "    \"bbbg\" : \"bye bye be good\",\n",
    "    \"bbc\" : \"british broadcasting corporation\",\n",
    "    \"bbias\" : \"be back in a second\",\n",
    "    \"bbl\" : \"be back later\",\n",
    "    \"bbs\" : \"be back soon\",\n",
    "    \"be4\" : \"before\",\n",
    "    \"bfn\" : \"bye for now\",\n",
    "    \"blvd\" : \"boulevard\",\n",
    "    \"bout\" : \"about\",\n",
    "    \"brb\" : \"be right back\",\n",
    "    \"bros\" : \"brothers\",\n",
    "    \"brt\" : \"be right there\",\n",
    "    \"bsaaw\" : \"big smile and a wink\",\n",
    "    \"btw\" : \"by the way\",\n",
    "    \"bwl\" : \"bursting with laughter\",\n",
    "    \"c/o\" : \"care of\",\n",
    "    \"cet\" : \"central european time\",\n",
    "    \"cf\" : \"compare\",\n",
    "    \"cia\" : \"central intelligence agency\",\n",
    "    \"csl\" : \"can not stop laughing\",\n",
    "    \"cu\" : \"see you\",\n",
    "    \"cul8r\" : \"see you later\",\n",
    "    \"cv\" : \"curriculum vitae\",\n",
    "    \"cwot\" : \"complete waste of time\",\n",
    "    \"cya\" : \"see you\",\n",
    "    \"cyt\" : \"see you tomorrow\",\n",
    "    \"dae\" : \"does anyone else\",\n",
    "    \"dbmib\" : \"do not bother me i am busy\",\n",
    "    \"diy\" : \"do it yourself\",\n",
    "    \"dm\" : \"direct message\",\n",
    "    \"dwh\" : \"during work hours\",\n",
    "    \"e123\" : \"easy as one two three\",\n",
    "    \"eet\" : \"eastern european time\",\n",
    "    \"eg\" : \"example\",\n",
    "    \"embm\" : \"early morning business meeting\",\n",
    "    \"encl\" : \"enclosed\",\n",
    "    \"encl.\" : \"enclosed\",\n",
    "    \"etc\" : \"and so on\",\n",
    "    \"faq\" : \"frequently asked questions\",\n",
    "    \"fawc\" : \"for anyone who cares\",\n",
    "    \"fb\" : \"facebook\",\n",
    "    \"fc\" : \"fingers crossed\",\n",
    "    \"fig\" : \"figure\",\n",
    "    \"fimh\" : \"forever in my heart\", \n",
    "    \"ft.\" : \"feet\",\n",
    "    \"ft\" : \"featuring\",\n",
    "    \"ftl\" : \"for the loss\",\n",
    "    \"ftw\" : \"for the win\",\n",
    "    \"fwiw\" : \"for what it is worth\",\n",
    "    \"fyi\" : \"for your information\",\n",
    "    \"g9\" : \"genius\",\n",
    "    \"gahoy\" : \"get a hold of yourself\",\n",
    "    \"gal\" : \"get a life\",\n",
    "    \"gcse\" : \"general certificate of secondary education\",\n",
    "    \"gfn\" : \"gone for now\",\n",
    "    \"gg\" : \"good game\",\n",
    "    \"gl\" : \"good luck\",\n",
    "    \"glhf\" : \"good luck have fun\",\n",
    "    \"gmt\" : \"greenwich mean time\",\n",
    "    \"gmta\" : \"great minds think alike\",\n",
    "    \"gn\" : \"good night\",\n",
    "    \"g.o.a.t\" : \"greatest of all time\",\n",
    "    \"goat\" : \"greatest of all time\",\n",
    "    \"goi\" : \"get over it\",\n",
    "    \"gps\" : \"global positioning system\",\n",
    "    \"gr8\" : \"great\",\n",
    "    \"gratz\" : \"congratulations\",\n",
    "    \"gyal\" : \"girl\",\n",
    "    \"h&c\" : \"hot and cold\",\n",
    "    \"hp\" : \"horsepower\",\n",
    "    \"hr\" : \"hour\",\n",
    "    \"hrh\" : \"his royal highness\",\n",
    "    \"ht\" : \"height\",\n",
    "    \"ibrb\" : \"i will be right back\",\n",
    "    \"ic\" : \"i see\",\n",
    "    \"icq\" : \"i seek you\",\n",
    "    \"icymi\" : \"in case you missed it\",\n",
    "    \"idc\" : \"i do not care\",\n",
    "    \"idgadf\" : \"i do not give a damn fuck\",\n",
    "    \"idgaf\" : \"i do not give a fuck\",\n",
    "    \"idk\" : \"i do not know\",\n",
    "    \"ie\" : \"that is\",\n",
    "    \"i.e\" : \"that is\",\n",
    "    \"ifyp\" : \"i feel your pain\",\n",
    "    \"IG\" : \"instagram\",\n",
    "    \"iirc\" : \"if i remember correctly\",\n",
    "    \"ilu\" : \"i love you\",\n",
    "    \"ily\" : \"i love you\",\n",
    "    \"imho\" : \"in my humble opinion\",\n",
    "    \"imo\" : \"in my opinion\",\n",
    "    \"imu\" : \"i miss you\",\n",
    "    \"iow\" : \"in other words\",\n",
    "    \"irl\" : \"in real life\",\n",
    "    \"j4f\" : \"just for fun\",\n",
    "    \"jic\" : \"just in case\",\n",
    "    \"jk\" : \"just kidding\",\n",
    "    \"jsyk\" : \"just so you know\",\n",
    "    \"l8r\" : \"later\",\n",
    "    \"lb\" : \"pound\",\n",
    "    \"lbs\" : \"pounds\",\n",
    "    \"ldr\" : \"long distance relationship\",\n",
    "    \"lmao\" : \"laugh my ass off\",\n",
    "    \"lmfao\" : \"laugh my fucking ass off\",\n",
    "    \"lol\" : \"laughing out loud\",\n",
    "    \"ltd\" : \"limited\",\n",
    "    \"ltns\" : \"long time no see\",\n",
    "    \"m8\" : \"mate\",\n",
    "    \"mf\" : \"motherfucker\",\n",
    "    \"mfs\" : \"motherfuckers\",\n",
    "    \"mfw\" : \"my face when\",\n",
    "    \"mofo\" : \"motherfucker\",\n",
    "    \"mph\" : \"miles per hour\",\n",
    "    \"mr\" : \"mister\",\n",
    "    \"mrw\" : \"my reaction when\",\n",
    "    \"ms\" : \"miss\",\n",
    "    \"mte\" : \"my thoughts exactly\",\n",
    "    \"nagi\" : \"not a good idea\",\n",
    "    \"nbc\" : \"national broadcasting company\",\n",
    "    \"nbd\" : \"not big deal\",\n",
    "    \"nfs\" : \"not for sale\",\n",
    "    \"ngl\" : \"not going to lie\",\n",
    "    \"nhs\" : \"national health service\",\n",
    "    \"nrn\" : \"no reply necessary\",\n",
    "    \"nsfl\" : \"not safe for life\",\n",
    "    \"nsfw\" : \"not safe for work\",\n",
    "    \"nth\" : \"nice to have\",\n",
    "    \"nvr\" : \"never\",\n",
    "    \"nyc\" : \"new york city\",\n",
    "    \"oc\" : \"original content\",\n",
    "    \"og\" : \"original\",\n",
    "    \"ohp\" : \"overhead projector\",\n",
    "    \"oic\" : \"oh i see\",\n",
    "    \"omdb\" : \"over my dead body\",\n",
    "    \"omg\" : \"oh my god\",\n",
    "    \"omw\" : \"on my way\",\n",
    "    \"p.a\" : \"per annum\",\n",
    "    \"p.m\" : \"after midday\",\n",
    "    \"pm\" : \"prime minister\",\n",
    "    \"poc\" : \"people of color\",\n",
    "    \"pov\" : \"point of view\",\n",
    "    \"pp\" : \"pages\",\n",
    "    \"ppl\" : \"people\",\n",
    "    \"prw\" : \"parents are watching\",\n",
    "    \"ps\" : \"postscript\",\n",
    "    \"pt\" : \"point\",\n",
    "    \"ptb\" : \"please text back\",\n",
    "    \"pto\" : \"please turn over\",\n",
    "    \"qpsa\" : \"what happens\", #\"que pasa\",\n",
    "    \"ratchet\" : \"rude\",\n",
    "    \"rbtl\" : \"read between the lines\",\n",
    "    \"rlrt\" : \"real life retweet\", \n",
    "    \"rofl\" : \"rolling on the floor laughing\",\n",
    "    \"roflol\" : \"rolling on the floor laughing out loud\",\n",
    "    \"rotflmao\" : \"rolling on the floor laughing my ass off\",\n",
    "    \"rt\" : \"retweet\",\n",
    "    \"ruok\" : \"are you ok\",\n",
    "    \"sfw\" : \"safe for work\",\n",
    "    \"sk8\" : \"skate\",\n",
    "    \"smh\" : \"shake my head\",\n",
    "    \"sq\" : \"square\",\n",
    "    \"srsly\" : \"seriously\", \n",
    "    \"ssdd\" : \"same stuff different day\",\n",
    "    \"tbh\" : \"to be honest\",\n",
    "    \"tbs\" : \"tablespooful\",\n",
    "    \"tbsp\" : \"tablespooful\",\n",
    "    \"tfw\" : \"that feeling when\",\n",
    "    \"thks\" : \"thank you\",\n",
    "    \"tho\" : \"though\",\n",
    "    \"thx\" : \"thank you\",\n",
    "    \"tia\" : \"thanks in advance\",\n",
    "    \"til\" : \"today i learned\",\n",
    "    \"tl;dr\" : \"too long i did not read\",\n",
    "    \"tldr\" : \"too long i did not read\",\n",
    "    \"tmb\" : \"tweet me back\",\n",
    "    \"tntl\" : \"trying not to laugh\",\n",
    "    \"ttyl\" : \"talk to you later\",\n",
    "    \"u\" : \"you\",\n",
    "    \"u2\" : \"you too\",\n",
    "    \"u4e\" : \"yours for ever\",\n",
    "    \"utc\" : \"coordinated universal time\",\n",
    "    \"w/\" : \"with\",\n",
    "    \"w/o\" : \"without\",\n",
    "    \"w8\" : \"wait\",\n",
    "    \"wassup\" : \"what is up\",\n",
    "    \"wb\" : \"welcome back\",\n",
    "    \"wtf\" : \"what the fuck\",\n",
    "    \"wtg\" : \"way to go\",\n",
    "    \"wtpa\" : \"where the party at\",\n",
    "    \"wuf\" : \"where are you from\",\n",
    "    \"wuzup\" : \"what is up\",\n",
    "    \"wywh\" : \"wish you were here\",\n",
    "    \"yd\" : \"yard\",\n",
    "    \"ygtr\" : \"you got that right\",\n",
    "    \"ynk\" : \"you never know\",\n",
    "    \"zzz\" : \"sleeping bored and tired\"\n",
    "}"
   ]
  },
  {
   "cell_type": "code",
   "execution_count": 20,
   "id": "d956e4c4",
   "metadata": {},
   "outputs": [
    {
     "data": {
      "text/plain": [
       "{'$': ' dollar ',\n",
       " '€': ' euro ',\n",
       " '4ao': 'for adults only',\n",
       " 'a.m': 'before midday',\n",
       " 'a3': 'anytime anywhere anyplace',\n",
       " 'aamof': 'as a matter of fact',\n",
       " 'acct': 'account',\n",
       " 'adih': 'another day in hell',\n",
       " 'afaic': 'as far as i am concerned',\n",
       " 'afaict': 'as far as i can tell',\n",
       " 'afaik': 'as far as i know',\n",
       " 'afair': 'as far as i remember',\n",
       " 'afk': 'away from keyboard',\n",
       " 'app': 'application',\n",
       " 'approx': 'approximately',\n",
       " 'apps': 'applications',\n",
       " 'asap': 'as soon as possible',\n",
       " 'asl': 'age, sex, location',\n",
       " 'atk': 'at the keyboard',\n",
       " 'ave.': 'avenue',\n",
       " 'aymm': 'are you my mother',\n",
       " 'ayor': 'at your own risk',\n",
       " 'b&b': 'bed and breakfast',\n",
       " 'b+b': 'bed and breakfast',\n",
       " 'b.c': 'before christ',\n",
       " 'b2b': 'business to business',\n",
       " 'b2c': 'business to customer',\n",
       " 'b4': 'before',\n",
       " 'b4n': 'bye for now',\n",
       " 'b@u': 'back at you',\n",
       " 'bae': 'before anyone else',\n",
       " 'bak': 'back at keyboard',\n",
       " 'bbbg': 'bye bye be good',\n",
       " 'bbc': 'british broadcasting corporation',\n",
       " 'bbias': 'be back in a second',\n",
       " 'bbl': 'be back later',\n",
       " 'bbs': 'be back soon',\n",
       " 'be4': 'before',\n",
       " 'bfn': 'bye for now',\n",
       " 'blvd': 'boulevard',\n",
       " 'bout': 'about',\n",
       " 'brb': 'be right back',\n",
       " 'bros': 'brothers',\n",
       " 'brt': 'be right there',\n",
       " 'bsaaw': 'big smile and a wink',\n",
       " 'btw': 'by the way',\n",
       " 'bwl': 'bursting with laughter',\n",
       " 'c/o': 'care of',\n",
       " 'cet': 'central european time',\n",
       " 'cf': 'compare',\n",
       " 'cia': 'central intelligence agency',\n",
       " 'csl': 'can not stop laughing',\n",
       " 'cu': 'see you',\n",
       " 'cul8r': 'see you later',\n",
       " 'cv': 'curriculum vitae',\n",
       " 'cwot': 'complete waste of time',\n",
       " 'cya': 'see you',\n",
       " 'cyt': 'see you tomorrow',\n",
       " 'dae': 'does anyone else',\n",
       " 'dbmib': 'do not bother me i am busy',\n",
       " 'diy': 'do it yourself',\n",
       " 'dm': 'direct message',\n",
       " 'dwh': 'during work hours',\n",
       " 'e123': 'easy as one two three',\n",
       " 'eet': 'eastern european time',\n",
       " 'eg': 'example',\n",
       " 'embm': 'early morning business meeting',\n",
       " 'encl': 'enclosed',\n",
       " 'encl.': 'enclosed',\n",
       " 'etc': 'and so on',\n",
       " 'faq': 'frequently asked questions',\n",
       " 'fawc': 'for anyone who cares',\n",
       " 'fb': 'facebook',\n",
       " 'fc': 'fingers crossed',\n",
       " 'fig': 'figure',\n",
       " 'fimh': 'forever in my heart',\n",
       " 'ft.': 'feet',\n",
       " 'ft': 'featuring',\n",
       " 'ftl': 'for the loss',\n",
       " 'ftw': 'for the win',\n",
       " 'fwiw': 'for what it is worth',\n",
       " 'fyi': 'for your information',\n",
       " 'g9': 'genius',\n",
       " 'gahoy': 'get a hold of yourself',\n",
       " 'gal': 'get a life',\n",
       " 'gcse': 'general certificate of secondary education',\n",
       " 'gfn': 'gone for now',\n",
       " 'gg': 'good game',\n",
       " 'gl': 'good luck',\n",
       " 'glhf': 'good luck have fun',\n",
       " 'gmt': 'greenwich mean time',\n",
       " 'gmta': 'great minds think alike',\n",
       " 'gn': 'good night',\n",
       " 'g.o.a.t': 'greatest of all time',\n",
       " 'goat': 'greatest of all time',\n",
       " 'goi': 'get over it',\n",
       " 'gps': 'global positioning system',\n",
       " 'gr8': 'great',\n",
       " 'gratz': 'congratulations',\n",
       " 'gyal': 'girl',\n",
       " 'h&c': 'hot and cold',\n",
       " 'hp': 'horsepower',\n",
       " 'hr': 'hour',\n",
       " 'hrh': 'his royal highness',\n",
       " 'ht': 'height',\n",
       " 'ibrb': 'i will be right back',\n",
       " 'ic': 'i see',\n",
       " 'icq': 'i seek you',\n",
       " 'icymi': 'in case you missed it',\n",
       " 'idc': 'i do not care',\n",
       " 'idgadf': 'i do not give a damn fuck',\n",
       " 'idgaf': 'i do not give a fuck',\n",
       " 'idk': 'i do not know',\n",
       " 'ie': 'that is',\n",
       " 'i.e': 'that is',\n",
       " 'ifyp': 'i feel your pain',\n",
       " 'IG': 'instagram',\n",
       " 'iirc': 'if i remember correctly',\n",
       " 'ilu': 'i love you',\n",
       " 'ily': 'i love you',\n",
       " 'imho': 'in my humble opinion',\n",
       " 'imo': 'in my opinion',\n",
       " 'imu': 'i miss you',\n",
       " 'iow': 'in other words',\n",
       " 'irl': 'in real life',\n",
       " 'j4f': 'just for fun',\n",
       " 'jic': 'just in case',\n",
       " 'jk': 'just kidding',\n",
       " 'jsyk': 'just so you know',\n",
       " 'l8r': 'later',\n",
       " 'lb': 'pound',\n",
       " 'lbs': 'pounds',\n",
       " 'ldr': 'long distance relationship',\n",
       " 'lmao': 'laugh my ass off',\n",
       " 'lmfao': 'laugh my fucking ass off',\n",
       " 'lol': 'laughing out loud',\n",
       " 'ltd': 'limited',\n",
       " 'ltns': 'long time no see',\n",
       " 'm8': 'mate',\n",
       " 'mf': 'motherfucker',\n",
       " 'mfs': 'motherfuckers',\n",
       " 'mfw': 'my face when',\n",
       " 'mofo': 'motherfucker',\n",
       " 'mph': 'miles per hour',\n",
       " 'mr': 'mister',\n",
       " 'mrw': 'my reaction when',\n",
       " 'ms': 'miss',\n",
       " 'mte': 'my thoughts exactly',\n",
       " 'nagi': 'not a good idea',\n",
       " 'nbc': 'national broadcasting company',\n",
       " 'nbd': 'not big deal',\n",
       " 'nfs': 'not for sale',\n",
       " 'ngl': 'not going to lie',\n",
       " 'nhs': 'national health service',\n",
       " 'nrn': 'no reply necessary',\n",
       " 'nsfl': 'not safe for life',\n",
       " 'nsfw': 'not safe for work',\n",
       " 'nth': 'nice to have',\n",
       " 'nvr': 'never',\n",
       " 'nyc': 'new york city',\n",
       " 'oc': 'original content',\n",
       " 'og': 'original',\n",
       " 'ohp': 'overhead projector',\n",
       " 'oic': 'oh i see',\n",
       " 'omdb': 'over my dead body',\n",
       " 'omg': 'oh my god',\n",
       " 'omw': 'on my way',\n",
       " 'p.a': 'per annum',\n",
       " 'p.m': 'after midday',\n",
       " 'pm': 'prime minister',\n",
       " 'poc': 'people of color',\n",
       " 'pov': 'point of view',\n",
       " 'pp': 'pages',\n",
       " 'ppl': 'people',\n",
       " 'prw': 'parents are watching',\n",
       " 'ps': 'postscript',\n",
       " 'pt': 'point',\n",
       " 'ptb': 'please text back',\n",
       " 'pto': 'please turn over',\n",
       " 'qpsa': 'what happens',\n",
       " 'ratchet': 'rude',\n",
       " 'rbtl': 'read between the lines',\n",
       " 'rlrt': 'real life retweet',\n",
       " 'rofl': 'rolling on the floor laughing',\n",
       " 'roflol': 'rolling on the floor laughing out loud',\n",
       " 'rotflmao': 'rolling on the floor laughing my ass off',\n",
       " 'rt': 'retweet',\n",
       " 'ruok': 'are you ok',\n",
       " 'sfw': 'safe for work',\n",
       " 'sk8': 'skate',\n",
       " 'smh': 'shake my head',\n",
       " 'sq': 'square',\n",
       " 'srsly': 'seriously',\n",
       " 'ssdd': 'same stuff different day',\n",
       " 'tbh': 'to be honest',\n",
       " 'tbs': 'tablespooful',\n",
       " 'tbsp': 'tablespooful',\n",
       " 'tfw': 'that feeling when',\n",
       " 'thks': 'thank you',\n",
       " 'tho': 'though',\n",
       " 'thx': 'thank you',\n",
       " 'tia': 'thanks in advance',\n",
       " 'til': 'today i learned',\n",
       " 'tl;dr': 'too long i did not read',\n",
       " 'tldr': 'too long i did not read',\n",
       " 'tmb': 'tweet me back',\n",
       " 'tntl': 'trying not to laugh',\n",
       " 'ttyl': 'talk to you later',\n",
       " 'u': 'you',\n",
       " 'u2': 'you too',\n",
       " 'u4e': 'yours for ever',\n",
       " 'utc': 'coordinated universal time',\n",
       " 'w/': 'with',\n",
       " 'w/o': 'without',\n",
       " 'w8': 'wait',\n",
       " 'wassup': 'what is up',\n",
       " 'wb': 'welcome back',\n",
       " 'wtf': 'what the fuck',\n",
       " 'wtg': 'way to go',\n",
       " 'wtpa': 'where the party at',\n",
       " 'wuf': 'where are you from',\n",
       " 'wuzup': 'what is up',\n",
       " 'wywh': 'wish you were here',\n",
       " 'yd': 'yard',\n",
       " 'ygtr': 'you got that right',\n",
       " 'ynk': 'you never know',\n",
       " 'zzz': 'sleeping bored and tired'}"
      ]
     },
     "execution_count": 20,
     "metadata": {},
     "output_type": "execute_result"
    }
   ],
   "source": [
    "chat_words"
   ]
  },
  {
   "cell_type": "code",
   "execution_count": 21,
   "id": "4e9aadb5",
   "metadata": {},
   "outputs": [],
   "source": [
    "def chat_conversion(text):\n",
    "    new_text = []\n",
    "    for word in text.split():\n",
    "        if word.lower() in chat_words:\n",
    "            new_text.append(chat_words[word.lower()])\n",
    "        else:\n",
    "            new_text.append(word)\n",
    "    return \" \".join(new_text)"
   ]
  },
  {
   "cell_type": "code",
   "execution_count": 22,
   "id": "d9afbbd4",
   "metadata": {},
   "outputs": [
    {
     "name": "stdout",
     "output_type": "stream",
     "text": [
      "imho! you are the best\n"
     ]
    }
   ],
   "source": [
    "t = 'imho! you are the best'\n",
    "print(chat_conversion(t))"
   ]
  },
  {
   "cell_type": "code",
   "execution_count": 23,
   "id": "8d83e390",
   "metadata": {},
   "outputs": [
    {
     "name": "stdout",
     "output_type": "stream",
     "text": [
      "what the fuck is that\n"
     ]
    }
   ],
   "source": [
    "t1 = 'wtf is that'\n",
    "print(chat_conversion(t1))"
   ]
  },
  {
   "cell_type": "markdown",
   "id": "d880e423",
   "metadata": {},
   "source": [
    "## Correction"
   ]
  },
  {
   "cell_type": "code",
   "execution_count": 24,
   "id": "5ee0f0b8",
   "metadata": {},
   "outputs": [],
   "source": [
    "from textblob import TextBlob"
   ]
  },
  {
   "cell_type": "code",
   "execution_count": 25,
   "id": "3b068d70",
   "metadata": {},
   "outputs": [
    {
     "name": "stdout",
     "output_type": "stream",
     "text": [
      "certain conditions during several generations are modified in the same manner minimum.\n"
     ]
    }
   ],
   "source": [
    "incorrect_text = 'ceertain conditions during seveal ggenerations aree moodified in the saame maner minmum.'\n",
    "\n",
    "textBlb = TextBlob(incorrect_text)\n",
    "\n",
    "print(textBlb.correct())"
   ]
  },
  {
   "cell_type": "markdown",
   "id": "b5ac9150",
   "metadata": {},
   "source": [
    "## Removing StopWords"
   ]
  },
  {
   "cell_type": "code",
   "execution_count": 26,
   "id": "572b735f",
   "metadata": {},
   "outputs": [],
   "source": [
    "# import nltk\n",
    "# nltk.download('stopwords')\n",
    "from nltk.corpus import stopwords"
   ]
  },
  {
   "cell_type": "code",
   "execution_count": 27,
   "id": "9fee47a2",
   "metadata": {},
   "outputs": [
    {
     "name": "stdout",
     "output_type": "stream",
     "text": [
      "['i', 'me', 'my', 'myself', 'we', 'our', 'ours', 'ourselves', 'you', \"you're\", \"you've\", \"you'll\", \"you'd\", 'your', 'yours', 'yourself', 'yourselves', 'he', 'him', 'his', 'himself', 'she', \"she's\", 'her', 'hers', 'herself', 'it', \"it's\", 'its', 'itself', 'they', 'them', 'their', 'theirs', 'themselves', 'what', 'which', 'who', 'whom', 'this', 'that', \"that'll\", 'these', 'those', 'am', 'is', 'are', 'was', 'were', 'be', 'been', 'being', 'have', 'has', 'had', 'having', 'do', 'does', 'did', 'doing', 'a', 'an', 'the', 'and', 'but', 'if', 'or', 'because', 'as', 'until', 'while', 'of', 'at', 'by', 'for', 'with', 'about', 'against', 'between', 'into', 'through', 'during', 'before', 'after', 'above', 'below', 'to', 'from', 'up', 'down', 'in', 'out', 'on', 'off', 'over', 'under', 'again', 'further', 'then', 'once', 'here', 'there', 'when', 'where', 'why', 'how', 'all', 'any', 'both', 'each', 'few', 'more', 'most', 'other', 'some', 'such', 'no', 'nor', 'not', 'only', 'own', 'same', 'so', 'than', 'too', 'very', 's', 't', 'can', 'will', 'just', 'don', \"don't\", 'should', \"should've\", 'now', 'd', 'll', 'm', 'o', 're', 've', 'y', 'ain', 'aren', \"aren't\", 'couldn', \"couldn't\", 'didn', \"didn't\", 'doesn', \"doesn't\", 'hadn', \"hadn't\", 'hasn', \"hasn't\", 'haven', \"haven't\", 'isn', \"isn't\", 'ma', 'mightn', \"mightn't\", 'mustn', \"mustn't\", 'needn', \"needn't\", 'shan', \"shan't\", 'shouldn', \"shouldn't\", 'wasn', \"wasn't\", 'weren', \"weren't\", 'won', \"won't\", 'wouldn', \"wouldn't\"]\n"
     ]
    }
   ],
   "source": [
    "print(stopwords.words('english')) #spanish,french,bengali"
   ]
  },
  {
   "cell_type": "code",
   "execution_count": 28,
   "id": "0e662ac8",
   "metadata": {},
   "outputs": [],
   "source": [
    "def remove_stopwords(text):\n",
    "    new_text = []\n",
    "    \n",
    "    for word in text.split():\n",
    "        if word in stopwords.words('english'):\n",
    "            new_text.append('')\n",
    "        else:\n",
    "            new_text.append(word)\n",
    "    return \" \".join(new_text)"
   ]
  },
  {
   "cell_type": "code",
   "execution_count": 29,
   "id": "3a5a2e62",
   "metadata": {},
   "outputs": [
    {
     "name": "stdout",
     "output_type": "stream",
     "text": [
      "  iron man\n"
     ]
    }
   ],
   "source": [
    "stw = 'i am iron man'\n",
    "print(remove_stopwords(stw))"
   ]
  },
  {
   "cell_type": "markdown",
   "id": "c3bd44ac",
   "metadata": {},
   "source": [
    "## Emoji"
   ]
  },
  {
   "cell_type": "code",
   "execution_count": 30,
   "id": "67cab48e",
   "metadata": {},
   "outputs": [],
   "source": [
    "import emoji"
   ]
  },
  {
   "cell_type": "code",
   "execution_count": 31,
   "id": "67259839",
   "metadata": {},
   "outputs": [
    {
     "name": "stdout",
     "output_type": "stream",
     "text": [
      "Content was :smiling_face_with_smiling_eyes:\n"
     ]
    }
   ],
   "source": [
    "print(emoji.demojize(\"Content was 😊\"))"
   ]
  },
  {
   "cell_type": "markdown",
   "id": "2b4f523f",
   "metadata": {},
   "source": [
    "## Tokenization"
   ]
  },
  {
   "cell_type": "markdown",
   "id": "714eee87",
   "metadata": {},
   "source": [
    "#NLTK"
   ]
  },
  {
   "cell_type": "code",
   "execution_count": 32,
   "id": "2134e5f3",
   "metadata": {},
   "outputs": [],
   "source": [
    "import re"
   ]
  },
  {
   "cell_type": "code",
   "execution_count": 33,
   "id": "4cc4b439",
   "metadata": {},
   "outputs": [
    {
     "name": "stdout",
     "output_type": "stream",
     "text": [
      "['I', 'am', 'going', 'to', 'Delhi']\n"
     ]
    }
   ],
   "source": [
    "sent1 = 'I am going to Delhi!'\n",
    "tokens = re.findall(\"[\\w]+\",sent1)\n",
    "print(tokens)"
   ]
  },
  {
   "cell_type": "code",
   "execution_count": 34,
   "id": "a018a8a1",
   "metadata": {},
   "outputs": [],
   "source": [
    "from nltk.tokenize import word_tokenize,sent_tokenize"
   ]
  },
  {
   "cell_type": "code",
   "execution_count": 35,
   "id": "69d37995",
   "metadata": {},
   "outputs": [
    {
     "name": "stdout",
     "output_type": "stream",
     "text": [
      "['I', 'am', 'going', 'to', 'Delhi', '!']\n"
     ]
    }
   ],
   "source": [
    "print(word_tokenize(sent1))"
   ]
  },
  {
   "cell_type": "code",
   "execution_count": 36,
   "id": "aff95924",
   "metadata": {},
   "outputs": [
    {
     "name": "stdout",
     "output_type": "stream",
     "text": [
      "['Legends never die!', 'When the world is calling you.', 'Can you hear them screaming out your name.']\n"
     ]
    }
   ],
   "source": [
    "para1 = \"Legends never die! When the world is calling you. Can you hear them screaming out your name.\"\n",
    "print(sent_tokenize(para1))"
   ]
  },
  {
   "cell_type": "markdown",
   "id": "686c3212",
   "metadata": {},
   "source": [
    "#Spacy"
   ]
  },
  {
   "cell_type": "code",
   "execution_count": 37,
   "id": "3303b248",
   "metadata": {},
   "outputs": [],
   "source": [
    "import spacy"
   ]
  },
  {
   "cell_type": "code",
   "execution_count": 38,
   "id": "829427d8",
   "metadata": {},
   "outputs": [],
   "source": [
    "obj = spacy.load('en_core_web_sm')"
   ]
  },
  {
   "cell_type": "code",
   "execution_count": 39,
   "id": "fdc8105e",
   "metadata": {},
   "outputs": [],
   "source": [
    "email = 'soujitdas1999@gmail.com. soujitdas27@gamil.com'\n",
    "doc1 = obj(email)"
   ]
  },
  {
   "cell_type": "code",
   "execution_count": 40,
   "id": "a4e0f2f9",
   "metadata": {},
   "outputs": [
    {
     "name": "stdout",
     "output_type": "stream",
     "text": [
      "soujitdas1999@gmail.com\n",
      ".\n",
      "soujitdas27@gamil.com\n"
     ]
    }
   ],
   "source": [
    "for token in doc1:\n",
    "    print(token)"
   ]
  },
  {
   "cell_type": "markdown",
   "id": "f95b6399",
   "metadata": {},
   "source": [
    "## Stemming and Lemmetization"
   ]
  },
  {
   "cell_type": "markdown",
   "id": "4a0f71f3",
   "metadata": {},
   "source": [
    "#Stemming"
   ]
  },
  {
   "cell_type": "code",
   "execution_count": 41,
   "id": "86d304a8",
   "metadata": {},
   "outputs": [],
   "source": [
    "from nltk.stem.porter import PorterStemmer"
   ]
  },
  {
   "cell_type": "code",
   "execution_count": 42,
   "id": "a37a59b0",
   "metadata": {},
   "outputs": [],
   "source": [
    "ps = PorterStemmer()"
   ]
  },
  {
   "cell_type": "code",
   "execution_count": 43,
   "id": "301f62fe",
   "metadata": {},
   "outputs": [],
   "source": [
    "def stem_words(text):\n",
    "    return \" \".join([ps.stem(word) for word in text.split()])"
   ]
  },
  {
   "cell_type": "code",
   "execution_count": 44,
   "id": "e77cca94",
   "metadata": {},
   "outputs": [
    {
     "data": {
      "text/plain": [
       "'have have ha'"
      ]
     },
     "execution_count": 44,
     "metadata": {},
     "output_type": "execute_result"
    }
   ],
   "source": [
    "nn = 'have having has'\n",
    "stem_words(nn)"
   ]
  },
  {
   "cell_type": "markdown",
   "id": "ecbd7de6",
   "metadata": {},
   "source": [
    "## Lemmatization"
   ]
  },
  {
   "cell_type": "code",
   "execution_count": 49,
   "id": "ba8c10d3",
   "metadata": {},
   "outputs": [],
   "source": [
    "import nltk\n",
    "from nltk.stem import WordNetLemmatizer\n",
    "from nltk.tokenize import word_tokenize"
   ]
  },
  {
   "cell_type": "code",
   "execution_count": 56,
   "id": "325ccd2e",
   "metadata": {},
   "outputs": [
    {
     "name": "stdout",
     "output_type": "stream",
     "text": [
      "word                lemma               \n",
      "I                   I                   \n",
      "was                 be                  \n",
      "running             run                 \n",
      "far                 far                 \n",
      "away                away                \n",
      "Would               Would               \n",
      "I                   I                   \n",
      "run                 run                 \n",
      "off                 off                 \n",
      "the                 the                 \n",
      "world               world               \n",
      "someday             someday             \n",
      "Nobody              Nobody              \n",
      "knows               know                \n",
      "nobody              nobody              \n",
      "knows.And           knows.And           \n",
      "I                   I                   \n",
      "was                 be                  \n",
      "dancing             dance               \n",
      "in                  in                  \n",
      "the                 the                 \n",
      "rain.I              rain.I              \n",
      "felt                felt                \n",
      "alive               alive               \n",
      "and                 and                 \n",
      "I                   I                   \n",
      "ca                  ca                  \n",
      "n't                 n't                 \n",
      "complain            complain            \n"
     ]
    }
   ],
   "source": [
    "wordnet_lemmatizer = WordNetLemmatizer()\n",
    "\n",
    "sentence = \"I was running far away. Would I run off the world someday?Nobody knows, nobody knows.And I was dancing in the rain.I felt alive and I can't complain\"\n",
    "\n",
    "punc = \"?:!.,;\"\n",
    "\n",
    "sentence_words = nltk.word_tokenize(sentence)\n",
    "\n",
    "for word in sentence_words:\n",
    "    if word in punc:\n",
    "        sentence_words.remove(word)\n",
    "        \n",
    "print(\"{0:20}{1:20}\".format(\"word\",\"lemma\"))\n",
    "for word in sentence_words:\n",
    "    print(\"{0:20}{1:20}\".format(word,wordnet_lemmatizer.lemmatize(word,pos='v')))"
   ]
  }
 ],
 "metadata": {
  "kernelspec": {
   "display_name": "Python 3 (ipykernel)",
   "language": "python",
   "name": "python3"
  },
  "language_info": {
   "codemirror_mode": {
    "name": "ipython",
    "version": 3
   },
   "file_extension": ".py",
   "mimetype": "text/x-python",
   "name": "python",
   "nbconvert_exporter": "python",
   "pygments_lexer": "ipython3",
   "version": "3.11.0"
  }
 },
 "nbformat": 4,
 "nbformat_minor": 5
}
